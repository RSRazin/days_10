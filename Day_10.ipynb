{
 "cells": [
  {
   "cell_type": "markdown",
   "id": "7d83d6b2",
   "metadata": {},
   "source": [
    "Shahadat Hossain Razin\n",
    "B.Sc in Statistics, IU\n",
    "email- razinstatiu@gmail.com\n",
    "01515237158\n"
   ]
  },
  {
   "cell_type": "markdown",
   "id": "5f62bd65",
   "metadata": {},
   "source": [
    "Assigning the variables"
   ]
  },
  {
   "cell_type": "code",
   "execution_count": 1,
   "id": "07546e87",
   "metadata": {},
   "outputs": [],
   "source": [
    "x = 15\n",
    "y = 4\n",
    "z = 3"
   ]
  },
  {
   "cell_type": "code",
   "execution_count": 2,
   "id": "8cf54577",
   "metadata": {},
   "outputs": [
    {
     "data": {
      "text/plain": [
       "19"
      ]
     },
     "execution_count": 2,
     "metadata": {},
     "output_type": "execute_result"
    }
   ],
   "source": [
    "x+y"
   ]
  },
  {
   "cell_type": "code",
   "execution_count": 3,
   "id": "11b240f2",
   "metadata": {},
   "outputs": [
    {
     "data": {
      "text/plain": [
       "11"
      ]
     },
     "execution_count": 3,
     "metadata": {},
     "output_type": "execute_result"
    }
   ],
   "source": [
    "x-y"
   ]
  },
  {
   "cell_type": "code",
   "execution_count": 5,
   "id": "dd91a475",
   "metadata": {},
   "outputs": [
    {
     "data": {
      "text/plain": [
       "3.75"
      ]
     },
     "execution_count": 5,
     "metadata": {},
     "output_type": "execute_result"
    }
   ],
   "source": [
    "x/y"
   ]
  },
  {
   "cell_type": "code",
   "execution_count": 6,
   "id": "a4cba2c1",
   "metadata": {},
   "outputs": [
    {
     "data": {
      "text/plain": [
       "60"
      ]
     },
     "execution_count": 6,
     "metadata": {},
     "output_type": "execute_result"
    }
   ],
   "source": [
    "x*y"
   ]
  },
  {
   "cell_type": "code",
   "execution_count": 7,
   "id": "a3cb5e52",
   "metadata": {},
   "outputs": [
    {
     "data": {
      "text/plain": [
       "5.0"
      ]
     },
     "execution_count": 7,
     "metadata": {},
     "output_type": "execute_result"
    }
   ],
   "source": [
    "x/z"
   ]
  },
  {
   "cell_type": "code",
   "execution_count": 8,
   "id": "cedaf5e5",
   "metadata": {},
   "outputs": [
    {
     "data": {
      "text/plain": [
       "45"
      ]
     },
     "execution_count": 8,
     "metadata": {},
     "output_type": "execute_result"
    }
   ],
   "source": [
    "x*z"
   ]
  },
  {
   "cell_type": "code",
   "execution_count": 9,
   "id": "58189640",
   "metadata": {},
   "outputs": [
    {
     "data": {
      "text/plain": [
       "50625"
      ]
     },
     "execution_count": 9,
     "metadata": {},
     "output_type": "execute_result"
    }
   ],
   "source": [
    "x**y"
   ]
  },
  {
   "cell_type": "code",
   "execution_count": 10,
   "id": "69509236",
   "metadata": {},
   "outputs": [
    {
     "data": {
      "text/plain": [
       "3"
      ]
     },
     "execution_count": 10,
     "metadata": {},
     "output_type": "execute_result"
    }
   ],
   "source": [
    "x//y"
   ]
  },
  {
   "cell_type": "code",
   "execution_count": 12,
   "id": "9df52c76",
   "metadata": {},
   "outputs": [
    {
     "data": {
      "text/plain": [
       "3"
      ]
     },
     "execution_count": 12,
     "metadata": {},
     "output_type": "execute_result"
    }
   ],
   "source": [
    "import math\n",
    "math.floor(x/y)"
   ]
  },
  {
   "cell_type": "code",
   "execution_count": 14,
   "id": "e261d1a4",
   "metadata": {},
   "outputs": [
    {
     "data": {
      "text/plain": [
       "4"
      ]
     },
     "execution_count": 14,
     "metadata": {},
     "output_type": "execute_result"
    }
   ],
   "source": [
    "math.ceil(x/y)"
   ]
  },
  {
   "cell_type": "markdown",
   "id": "a6dfafbd",
   "metadata": {},
   "source": [
    "Python identity operator"
   ]
  },
  {
   "cell_type": "code",
   "execution_count": 15,
   "id": "36afd24f",
   "metadata": {},
   "outputs": [
    {
     "data": {
      "text/plain": [
       "True"
      ]
     },
     "execution_count": 15,
     "metadata": {},
     "output_type": "execute_result"
    }
   ],
   "source": [
    "x = 10\n",
    "y = 10\n",
    "x is y"
   ]
  },
  {
   "cell_type": "code",
   "execution_count": 16,
   "id": "39c51024",
   "metadata": {},
   "outputs": [
    {
     "data": {
      "text/plain": [
       "True"
      ]
     },
     "execution_count": 16,
     "metadata": {},
     "output_type": "execute_result"
    }
   ],
   "source": [
    "x==y #comparision"
   ]
  },
  {
   "cell_type": "code",
   "execution_count": 17,
   "id": "982d08f7",
   "metadata": {},
   "outputs": [
    {
     "data": {
      "text/plain": [
       "False"
      ]
     },
     "execution_count": 17,
     "metadata": {},
     "output_type": "execute_result"
    }
   ],
   "source": [
    "x != y"
   ]
  },
  {
   "cell_type": "code",
   "execution_count": 18,
   "id": "6c1febd9",
   "metadata": {},
   "outputs": [],
   "source": [
    "x = 102030\n",
    "y = x\n",
    "z = 102030"
   ]
  },
  {
   "cell_type": "code",
   "execution_count": 19,
   "id": "19ee9298",
   "metadata": {},
   "outputs": [
    {
     "data": {
      "text/plain": [
       "True"
      ]
     },
     "execution_count": 19,
     "metadata": {},
     "output_type": "execute_result"
    }
   ],
   "source": [
    "x is y"
   ]
  },
  {
   "cell_type": "code",
   "execution_count": 20,
   "id": "2e99cec9",
   "metadata": {},
   "outputs": [
    {
     "data": {
      "text/plain": [
       "False"
      ]
     },
     "execution_count": 20,
     "metadata": {},
     "output_type": "execute_result"
    }
   ],
   "source": [
    "x is z"
   ]
  },
  {
   "cell_type": "code",
   "execution_count": 21,
   "id": "0e83fad3",
   "metadata": {},
   "outputs": [
    {
     "data": {
      "text/plain": [
       "1899145906768"
      ]
     },
     "execution_count": 21,
     "metadata": {},
     "output_type": "execute_result"
    }
   ],
   "source": [
    "id(x)"
   ]
  },
  {
   "cell_type": "code",
   "execution_count": 22,
   "id": "d57f79fc",
   "metadata": {},
   "outputs": [
    {
     "data": {
      "text/plain": [
       "1899145906768"
      ]
     },
     "execution_count": 22,
     "metadata": {},
     "output_type": "execute_result"
    }
   ],
   "source": [
    "id(y)"
   ]
  },
  {
   "cell_type": "code",
   "execution_count": 23,
   "id": "1f964a6c",
   "metadata": {},
   "outputs": [
    {
     "data": {
      "text/plain": [
       "1899145907568"
      ]
     },
     "execution_count": 23,
     "metadata": {},
     "output_type": "execute_result"
    }
   ],
   "source": [
    "id(z)"
   ]
  },
  {
   "cell_type": "code",
   "execution_count": 24,
   "id": "9a094eb4",
   "metadata": {},
   "outputs": [
    {
     "data": {
      "text/plain": [
       "True"
      ]
     },
     "execution_count": 24,
     "metadata": {},
     "output_type": "execute_result"
    }
   ],
   "source": [
    "x == z"
   ]
  },
  {
   "cell_type": "code",
   "execution_count": 25,
   "id": "7bc3183d",
   "metadata": {},
   "outputs": [
    {
     "data": {
      "text/plain": [
       "True"
      ]
     },
     "execution_count": 25,
     "metadata": {},
     "output_type": "execute_result"
    }
   ],
   "source": [
    "x is not z"
   ]
  },
  {
   "cell_type": "markdown",
   "id": "c8f3d626",
   "metadata": {},
   "source": [
    "Membership operator"
   ]
  },
  {
   "cell_type": "code",
   "execution_count": 29,
   "id": "63d82946",
   "metadata": {},
   "outputs": [
    {
     "data": {
      "text/plain": [
       "True"
      ]
     },
     "execution_count": 29,
     "metadata": {},
     "output_type": "execute_result"
    }
   ],
   "source": [
    "list1 = [1,2,3,4,5,6,7,8,9]\n",
    "2 in list1"
   ]
  },
  {
   "cell_type": "code",
   "execution_count": 30,
   "id": "c6899e71",
   "metadata": {},
   "outputs": [
    {
     "data": {
      "text/plain": [
       "False"
      ]
     },
     "execution_count": 30,
     "metadata": {},
     "output_type": "execute_result"
    }
   ],
   "source": [
    "21 in list1"
   ]
  },
  {
   "cell_type": "code",
   "execution_count": 31,
   "id": "13cb83ba",
   "metadata": {},
   "outputs": [
    {
     "data": {
      "text/plain": [
       "True"
      ]
     },
     "execution_count": 31,
     "metadata": {},
     "output_type": "execute_result"
    }
   ],
   "source": [
    "12 not in list1"
   ]
  },
  {
   "cell_type": "code",
   "execution_count": 32,
   "id": "23c7ee12",
   "metadata": {},
   "outputs": [
    {
     "data": {
      "text/plain": [
       "True"
      ]
     },
     "execution_count": 32,
     "metadata": {},
     "output_type": "execute_result"
    }
   ],
   "source": [
    "set1 = {1,2,3,4,5,6,7}\n",
    "3 in set1"
   ]
  },
  {
   "cell_type": "code",
   "execution_count": 33,
   "id": "3f36af32",
   "metadata": {},
   "outputs": [],
   "source": [
    "set1 = {8,7,9}"
   ]
  },
  {
   "cell_type": "code",
   "execution_count": 38,
   "id": "e34a2e92",
   "metadata": {},
   "outputs": [
    {
     "data": {
      "text/plain": [
       "False"
      ]
     },
     "execution_count": 38,
     "metadata": {},
     "output_type": "execute_result"
    }
   ],
   "source": [
    "9 in set1"
   ]
  },
  {
   "cell_type": "markdown",
   "id": "71b8839c",
   "metadata": {},
   "source": [
    "python Bitwise operator"
   ]
  },
  {
   "cell_type": "code",
   "execution_count": 43,
   "id": "999d6df6",
   "metadata": {},
   "outputs": [
    {
     "ename": "SyntaxError",
     "evalue": "leading zeros in decimal integer literals are not permitted; use an 0o prefix for octal integers (994737096.py, line 2)",
     "output_type": "error",
     "traceback": [
      "\u001b[1;36m  Input \u001b[1;32mIn [43]\u001b[1;36m\u001b[0m\n\u001b[1;33m    y = 0100 #4\u001b[0m\n\u001b[1;37m           ^\u001b[0m\n\u001b[1;31mSyntaxError\u001b[0m\u001b[1;31m:\u001b[0m leading zeros in decimal integer literals are not permitted; use an 0o prefix for octal integers\n"
     ]
    }
   ],
   "source": [
    "x = 1010 #10\n",
    "y = 0100 #4\n",
    "x | y = 1110\n",
    "x & y = 0000"
   ]
  },
  {
   "cell_type": "code",
   "execution_count": 41,
   "id": "c03f656a",
   "metadata": {},
   "outputs": [
    {
     "data": {
      "text/plain": [
       "14"
      ]
     },
     "execution_count": 41,
     "metadata": {},
     "output_type": "execute_result"
    }
   ],
   "source": [
    "x = 10\n",
    "y = 4\n",
    "x | y"
   ]
  },
  {
   "cell_type": "code",
   "execution_count": 42,
   "id": "85f333d6",
   "metadata": {},
   "outputs": [
    {
     "data": {
      "text/plain": [
       "0"
      ]
     },
     "execution_count": 42,
     "metadata": {},
     "output_type": "execute_result"
    }
   ],
   "source": [
    "x & y"
   ]
  },
  {
   "cell_type": "markdown",
   "id": "92cc348c",
   "metadata": {},
   "source": [
    "comparison operator"
   ]
  },
  {
   "cell_type": "code",
   "execution_count": 45,
   "id": "bcd26086",
   "metadata": {},
   "outputs": [
    {
     "data": {
      "text/plain": [
       "True"
      ]
     },
     "execution_count": 45,
     "metadata": {},
     "output_type": "execute_result"
    }
   ],
   "source": [
    "10 == 10"
   ]
  },
  {
   "cell_type": "code",
   "execution_count": 46,
   "id": "d678c6b3",
   "metadata": {},
   "outputs": [
    {
     "data": {
      "text/plain": [
       "True"
      ]
     },
     "execution_count": 46,
     "metadata": {},
     "output_type": "execute_result"
    }
   ],
   "source": [
    "10 >= 9"
   ]
  },
  {
   "cell_type": "markdown",
   "id": "137e4086",
   "metadata": {},
   "source": [
    "Python logical operator"
   ]
  },
  {
   "cell_type": "code",
   "execution_count": 47,
   "id": "c7569c03",
   "metadata": {},
   "outputs": [
    {
     "data": {
      "text/plain": [
       "False"
      ]
     },
     "execution_count": 47,
     "metadata": {},
     "output_type": "execute_result"
    }
   ],
   "source": [
    "10 > 9 and 10<3"
   ]
  },
  {
   "cell_type": "code",
   "execution_count": 48,
   "id": "e8fadfe6",
   "metadata": {},
   "outputs": [
    {
     "data": {
      "text/plain": [
       "True"
      ]
     },
     "execution_count": 48,
     "metadata": {},
     "output_type": "execute_result"
    }
   ],
   "source": [
    "10 > 9 or 10<3"
   ]
  },
  {
   "cell_type": "code",
   "execution_count": 49,
   "id": "dc1c155e",
   "metadata": {},
   "outputs": [
    {
     "data": {
      "text/plain": [
       "True"
      ]
     },
     "execution_count": 49,
     "metadata": {},
     "output_type": "execute_result"
    }
   ],
   "source": [
    "not(10 > 9 and 10<3)"
   ]
  },
  {
   "cell_type": "code",
   "execution_count": 50,
   "id": "78d3c165",
   "metadata": {},
   "outputs": [
    {
     "data": {
      "text/plain": [
       "True"
      ]
     },
     "execution_count": 50,
     "metadata": {},
     "output_type": "execute_result"
    }
   ],
   "source": [
    "10 > 9 and 10<12"
   ]
  },
  {
   "cell_type": "code",
   "execution_count": 51,
   "id": "c15d6107",
   "metadata": {},
   "outputs": [
    {
     "data": {
      "text/plain": [
       "True"
      ]
     },
     "execution_count": 51,
     "metadata": {},
     "output_type": "execute_result"
    }
   ],
   "source": [
    "10 > 9 or 10<12"
   ]
  },
  {
   "cell_type": "markdown",
   "id": "7c206bbb",
   "metadata": {},
   "source": [
    "Conditional statements: if, else, elif "
   ]
  },
  {
   "cell_type": "code",
   "execution_count": 56,
   "id": "3537c0f8",
   "metadata": {},
   "outputs": [
    {
     "name": "stdout",
     "output_type": "stream",
     "text": [
      "you are a great fool\n"
     ]
    }
   ],
   "source": [
    "x = 150\n",
    "y = 100\n",
    "if y > x:\n",
    "    print('you are welcome')\n",
    "elif x>y:\n",
    "    print('you are a great fool')\n",
    "else:\n",
    "    print('you are bad')\n",
    "    "
   ]
  },
  {
   "cell_type": "code",
   "execution_count": 63,
   "id": "4ab8a239",
   "metadata": {},
   "outputs": [
    {
     "ename": "SyntaxError",
     "evalue": "invalid syntax (868039302.py, line 2)",
     "output_type": "error",
     "traceback": [
      "\u001b[1;36m  Input \u001b[1;32mIn [63]\u001b[1;36m\u001b[0m\n\u001b[1;33m    if: Dept_name = 'Data Science'\u001b[0m\n\u001b[1;37m      ^\u001b[0m\n\u001b[1;31mSyntaxError\u001b[0m\u001b[1;31m:\u001b[0m invalid syntax\n"
     ]
    }
   ],
   "source": [
    "#Dept_name = 'Data Science'\n",
    "if: Dept_name = 'Data Science'\n",
    "    print('you have a great future')\n",
    "else:\n",
    "    print('do nor worried man!')"
   ]
  },
  {
   "cell_type": "code",
   "execution_count": 67,
   "id": "93c0cf51",
   "metadata": {},
   "outputs": [
    {
     "name": "stdout",
     "output_type": "stream",
     "text": [
      "Enter any number :8\n",
      "No\n"
     ]
    }
   ],
   "source": [
    "num = float(input('Enter any number :'))\n",
    "if num % 2 == 0:\n",
    "    if num % 5 ==0:\n",
    "        print(num, 'Divisibe by 5 and 2')\n",
    "    else:\n",
    "        print('No')\n",
    "else:\n",
    "    print('Shit')"
   ]
  },
  {
   "cell_type": "code",
   "execution_count": 68,
   "id": "c997a206",
   "metadata": {},
   "outputs": [],
   "source": [
    "#from IPython.display import image\n",
    "#image('file_name')"
   ]
  },
  {
   "cell_type": "markdown",
   "id": "c35adf49",
   "metadata": {},
   "source": [
    "Calculate electricity bill"
   ]
  },
  {
   "cell_type": "code",
   "execution_count": 75,
   "id": "96ae58a0",
   "metadata": {},
   "outputs": [
    {
     "name": "stdout",
     "output_type": "stream",
     "text": [
      "Enter your unit value:350\n",
      "amount is 2000.0\n"
     ]
    }
   ],
   "source": [
    "amount = 0\n",
    "net_units = float(input('Enter your unit value:'))\n",
    "if net_units <= 100:\n",
    "    amount = 0\n",
    "    \n",
    "elif net_units > 100 and net_units <= 200:\n",
    "    amount = (net_units - 100) * 5\n",
    "    \n",
    "elif net_units > 200:\n",
    "    amount = ((net_units - 200) * 10) + 500\n",
    "print ('amount is', amount)"
   ]
  },
  {
   "cell_type": "markdown",
   "id": "a072a499",
   "metadata": {},
   "source": [
    "length and breadth of a rectangular from user"
   ]
  },
  {
   "cell_type": "code",
   "execution_count": 77,
   "id": "c770acea",
   "metadata": {},
   "outputs": [
    {
     "name": "stdout",
     "output_type": "stream",
     "text": [
      "Enter the length: 12\n",
      "Enter the breadth: 12\n",
      "Yes, It is square\n"
     ]
    }
   ],
   "source": [
    "length = int(input('Enter the length: '))\n",
    "\n",
    "#input the breadth from user\n",
    "breadth = int(input('Enter the breadth: '))\n",
    "\n",
    "#square is a rectangular whose length and breadth are equal and commonly called as sides which are of equal length\n",
    "\n",
    "if length == breadth:\n",
    "    print ('Yes, It is square')\n",
    "else:\n",
    "    print('It is not a square')"
   ]
  },
  {
   "cell_type": "markdown",
   "id": "28e23f80",
   "metadata": {},
   "source": [
    "take three integer numbers from user input"
   ]
  },
  {
   "cell_type": "code",
   "execution_count": 78,
   "id": "daf546af",
   "metadata": {},
   "outputs": [
    {
     "name": "stdout",
     "output_type": "stream",
     "text": [
      "Enter the first number: 8\n",
      "Enter the second number: 9\n",
      "Enter the third number: 5\n",
      "The largest number is 9\n"
     ]
    }
   ],
   "source": [
    "num1 = int(input('Enter the first number: '))\n",
    "num2 = int(input('Enter the second number: '))\n",
    "num3 = int(input('Enter the third number: '))\n",
    "\n",
    "if (num1 > num2) and (num1 > num3):\n",
    "    largest = num1\n",
    "    \n",
    "elif (num2 > num1) and (num2 > num3):\n",
    "    largest = num2\n",
    "    \n",
    "else:\n",
    "    largest = num3\n",
    "print('The largest number is', largest)"
   ]
  },
  {
   "cell_type": "markdown",
   "id": "abc79067",
   "metadata": {},
   "source": [
    "Attendencs of a student in a class"
   ]
  },
  {
   "cell_type": "code",
   "execution_count": 84,
   "id": "4e5c1b7d",
   "metadata": {},
   "outputs": [
    {
     "name": "stdout",
     "output_type": "stream",
     "text": [
      "Number of classes held:25\n",
      "Number of classes attended:22\n",
      "You are allow for exam\n"
     ]
    }
   ],
   "source": [
    "held = int(input('Number of classes held:'))\n",
    "attended = int(input('Number of classes attended:'))\n",
    "\n",
    "attended_ratio = (attended/held) *100\n",
    "\n",
    "if attended_ratio >= 75:\n",
    "    print ('You are allow for exam')\n",
    "else:\n",
    "    print('Get out from here')"
   ]
  },
  {
   "cell_type": "code",
   "execution_count": 83,
   "id": "ee462d44",
   "metadata": {},
   "outputs": [
    {
     "data": {
      "text/plain": [
       "76.66666666666667"
      ]
     },
     "execution_count": 83,
     "metadata": {},
     "output_type": "execute_result"
    }
   ],
   "source": [
    "attended_ratio"
   ]
  },
  {
   "cell_type": "markdown",
   "id": "62ca4c5a",
   "metadata": {},
   "source": [
    "Grade system for students in exam"
   ]
  },
  {
   "cell_type": "code",
   "execution_count": 88,
   "id": "c3e7f961",
   "metadata": {},
   "outputs": [
    {
     "name": "stdout",
     "output_type": "stream",
     "text": [
      "Enter your marks:93\n",
      "Golden plus mama!!\n"
     ]
    }
   ],
   "source": [
    "marks = int(input('Enter your marks:'))\n",
    "\n",
    "if marks <25:\n",
    "    print('You are Genius like me:')\n",
    "\n",
    "elif marks >= 25 and marks <= 44:\n",
    "    print('E grade, pass korco mama!!')\n",
    "    \n",
    "elif marks >= 45 and marks <= 49:\n",
    "    print('D grade, kupaico mama!!')\n",
    "    \n",
    "elif marks >= 50 and marks <= 59:\n",
    "    print('C grade')\n",
    "    \n",
    "elif marks >= 60 and marks <= 69:\n",
    "    print('B grade')\n",
    "    \n",
    "elif marks >= 70 and marks <= 79:\n",
    "    print('A grade')\n",
    "    \n",
    "elif marks >= 80 and marks <= 99:\n",
    "    print('Golden plus mama!!')\n",
    "    \n",
    "else:\n",
    "    print('You are a loser')"
   ]
  },
  {
   "cell_type": "markdown",
   "id": "84a14466",
   "metadata": {},
   "source": [
    "\"For loof\" in python(A to Z)"
   ]
  },
  {
   "cell_type": "code",
   "execution_count": 89,
   "id": "8a71ef77",
   "metadata": {},
   "outputs": [],
   "source": [
    "data = 'python'"
   ]
  },
  {
   "cell_type": "code",
   "execution_count": 90,
   "id": "f3fdab01",
   "metadata": {},
   "outputs": [
    {
     "data": {
      "text/plain": [
       "'p'"
      ]
     },
     "execution_count": 90,
     "metadata": {},
     "output_type": "execute_result"
    }
   ],
   "source": [
    "data[0]"
   ]
  },
  {
   "cell_type": "code",
   "execution_count": 91,
   "id": "1d4f1ee2",
   "metadata": {},
   "outputs": [
    {
     "data": {
      "text/plain": [
       "'t'"
      ]
     },
     "execution_count": 91,
     "metadata": {},
     "output_type": "execute_result"
    }
   ],
   "source": [
    "data [2]"
   ]
  },
  {
   "cell_type": "code",
   "execution_count": 92,
   "id": "fea03ddc",
   "metadata": {},
   "outputs": [
    {
     "data": {
      "text/plain": [
       "'n'"
      ]
     },
     "execution_count": 92,
     "metadata": {},
     "output_type": "execute_result"
    }
   ],
   "source": [
    "data [-1]"
   ]
  },
  {
   "cell_type": "code",
   "execution_count": 93,
   "id": "57c10d5e",
   "metadata": {},
   "outputs": [
    {
     "name": "stdout",
     "output_type": "stream",
     "text": [
      "p\n",
      "y\n",
      "t\n",
      "h\n",
      "o\n",
      "n\n"
     ]
    }
   ],
   "source": [
    "for x in data:\n",
    "    print(x)"
   ]
  },
  {
   "cell_type": "code",
   "execution_count": 94,
   "id": "f5964bdb",
   "metadata": {},
   "outputs": [],
   "source": [
    "nums = [1,2,3,4,5,6,7,8]"
   ]
  },
  {
   "cell_type": "code",
   "execution_count": 95,
   "id": "caba312c",
   "metadata": {},
   "outputs": [
    {
     "data": {
      "text/plain": [
       "2"
      ]
     },
     "execution_count": 95,
     "metadata": {},
     "output_type": "execute_result"
    }
   ],
   "source": [
    "nums[1]"
   ]
  },
  {
   "cell_type": "code",
   "execution_count": 96,
   "id": "6830177b",
   "metadata": {},
   "outputs": [
    {
     "name": "stdout",
     "output_type": "stream",
     "text": [
      "1\n",
      "2\n",
      "3\n",
      "4\n",
      "5\n",
      "6\n",
      "7\n",
      "8\n"
     ]
    }
   ],
   "source": [
    "for i in nums:\n",
    "    print(i)"
   ]
  },
  {
   "cell_type": "code",
   "execution_count": 102,
   "id": "bf72c30b",
   "metadata": {},
   "outputs": [],
   "source": [
    "sub = ['math', 'statistcis', 'data science', 'physics', 'python', 'economics']"
   ]
  },
  {
   "cell_type": "code",
   "execution_count": 99,
   "id": "f1620f72",
   "metadata": {},
   "outputs": [
    {
     "data": {
      "text/plain": [
       "'statistcis'"
      ]
     },
     "execution_count": 99,
     "metadata": {},
     "output_type": "execute_result"
    }
   ],
   "source": [
    "sub [1]"
   ]
  },
  {
   "cell_type": "code",
   "execution_count": 101,
   "id": "56292b21",
   "metadata": {},
   "outputs": [
    {
     "data": {
      "text/plain": [
       "'physics'"
      ]
     },
     "execution_count": 101,
     "metadata": {},
     "output_type": "execute_result"
    }
   ],
   "source": [
    "sub [3]"
   ]
  },
  {
   "cell_type": "code",
   "execution_count": 103,
   "id": "e87ad0ca",
   "metadata": {},
   "outputs": [
    {
     "data": {
      "text/plain": [
       "'economics'"
      ]
     },
     "execution_count": 103,
     "metadata": {},
     "output_type": "execute_result"
    }
   ],
   "source": [
    "sub [5]"
   ]
  },
  {
   "cell_type": "code",
   "execution_count": 104,
   "id": "1c2bb7b0",
   "metadata": {},
   "outputs": [
    {
     "data": {
      "text/plain": [
       "'physics'"
      ]
     },
     "execution_count": 104,
     "metadata": {},
     "output_type": "execute_result"
    }
   ],
   "source": [
    "sub [-3]"
   ]
  },
  {
   "cell_type": "code",
   "execution_count": 109,
   "id": "e2467027",
   "metadata": {},
   "outputs": [
    {
     "name": "stdout",
     "output_type": "stream",
     "text": [
      "math\n",
      "statistcis\n",
      "data science\n",
      "physics\n",
      "python\n",
      "economics\n"
     ]
    }
   ],
   "source": [
    "for i in sub:\n",
    "    print(i)"
   ]
  },
  {
   "cell_type": "code",
   "execution_count": 110,
   "id": "fce8a3c2",
   "metadata": {},
   "outputs": [
    {
     "name": "stdout",
     "output_type": "stream",
     "text": [
      "math\n",
      "statistcis\n",
      "data science\n",
      "physics\n",
      "python\n",
      "economics\n"
     ]
    }
   ],
   "source": [
    "for i in range(len(sub)):\n",
    "    print(sub[i])"
   ]
  },
  {
   "cell_type": "code",
   "execution_count": 111,
   "id": "2e81d92b",
   "metadata": {},
   "outputs": [
    {
     "data": {
      "text/plain": [
       "6"
      ]
     },
     "execution_count": 111,
     "metadata": {},
     "output_type": "execute_result"
    }
   ],
   "source": [
    "len(sub)"
   ]
  },
  {
   "cell_type": "code",
   "execution_count": 113,
   "id": "83886572",
   "metadata": {},
   "outputs": [
    {
     "name": "stdout",
     "output_type": "stream",
     "text": [
      "math\n",
      "statistcis\n",
      "data science\n",
      "physics\n"
     ]
    }
   ],
   "source": [
    "for i in range(4):\n",
    "    print(sub[i])"
   ]
  },
  {
   "cell_type": "code",
   "execution_count": 114,
   "id": "c5f5fc08",
   "metadata": {},
   "outputs": [],
   "source": [
    "data = ('i love data science so much')"
   ]
  },
  {
   "cell_type": "code",
   "execution_count": 115,
   "id": "0175eba9",
   "metadata": {},
   "outputs": [
    {
     "data": {
      "text/plain": [
       "'i love data science so much'"
      ]
     },
     "execution_count": 115,
     "metadata": {},
     "output_type": "execute_result"
    }
   ],
   "source": [
    "data"
   ]
  },
  {
   "cell_type": "code",
   "execution_count": 116,
   "id": "115ef1d6",
   "metadata": {},
   "outputs": [
    {
     "name": "stdout",
     "output_type": "stream",
     "text": [
      "i love data science so much ['i']\n",
      "i love data science so much [' ']\n",
      "i love data science so much ['l']\n",
      "i love data science so much ['o']\n",
      "i love data science so much ['v']\n",
      "i love data science so much ['e']\n",
      "i love data science so much [' ']\n",
      "i love data science so much ['d']\n",
      "i love data science so much ['a']\n",
      "i love data science so much ['t']\n",
      "i love data science so much ['a']\n",
      "i love data science so much [' ']\n",
      "i love data science so much ['s']\n",
      "i love data science so much ['c']\n",
      "i love data science so much ['i']\n",
      "i love data science so much ['e']\n",
      "i love data science so much ['n']\n",
      "i love data science so much ['c']\n",
      "i love data science so much ['e']\n",
      "i love data science so much [' ']\n",
      "i love data science so much ['s']\n",
      "i love data science so much ['o']\n",
      "i love data science so much [' ']\n",
      "i love data science so much ['m']\n",
      "i love data science so much ['u']\n",
      "i love data science so much ['c']\n",
      "i love data science so much ['h']\n"
     ]
    }
   ],
   "source": [
    "data = ('i love data science so much')\n",
    "for i in data:\n",
    "    print(data,[i])"
   ]
  },
  {
   "cell_type": "code",
   "execution_count": 121,
   "id": "b6e641f5",
   "metadata": {},
   "outputs": [
    {
     "data": {
      "text/plain": [
       "['i', 'love', 'data', 'science', 'so', 'much']"
      ]
     },
     "execution_count": 121,
     "metadata": {},
     "output_type": "execute_result"
    }
   ],
   "source": [
    "data.split()"
   ]
  },
  {
   "cell_type": "code",
   "execution_count": 120,
   "id": "9b2f9725",
   "metadata": {},
   "outputs": [
    {
     "name": "stdout",
     "output_type": "stream",
     "text": [
      "i love data science so much ['i']\n",
      "i love data science so much [' ']\n",
      "i love data science so much ['l']\n",
      "i love data science so much ['o']\n",
      "i love data science so much ['v']\n",
      "i love data science so much ['e']\n",
      "i love data science so much [' ']\n",
      "i love data science so much ['d']\n",
      "i love data science so much ['a']\n",
      "i love data science so much ['t']\n",
      "i love data science so much ['a']\n",
      "i love data science so much [' ']\n",
      "i love data science so much ['s']\n",
      "i love data science so much ['c']\n",
      "i love data science so much ['i']\n",
      "i love data science so much ['e']\n",
      "i love data science so much ['n']\n",
      "i love data science so much ['c']\n",
      "i love data science so much ['e']\n",
      "i love data science so much [' ']\n",
      "i love data science so much ['s']\n",
      "i love data science so much ['o']\n",
      "i love data science so much [' ']\n",
      "i love data science so much ['m']\n",
      "i love data science so much ['u']\n",
      "i love data science so much ['c']\n",
      "i love data science so much ['h']\n"
     ]
    }
   ],
   "source": [
    "data = 'i love data science so much'\n",
    "data.split()\n",
    "for i in data:\n",
    "    print(data,[i])"
   ]
  },
  {
   "cell_type": "code",
   "execution_count": 125,
   "id": "6b07a02b",
   "metadata": {},
   "outputs": [
    {
     "name": "stdout",
     "output_type": "stream",
     "text": [
      "i 0\n",
      "  1\n",
      "l 2\n",
      "o 3\n",
      "v 4\n",
      "e 5\n",
      "  6\n",
      "d 7\n",
      "a 8\n",
      "t 9\n",
      "a 10\n",
      "  11\n",
      "s 12\n",
      "c 13\n",
      "i 14\n",
      "e 15\n",
      "n 16\n",
      "c 17\n",
      "e 18\n",
      "  19\n",
      "s 20\n",
      "o 21\n",
      "  22\n",
      "m 23\n",
      "u 24\n",
      "c 25\n",
      "h 26\n"
     ]
    }
   ],
   "source": [
    "data = 'i love data science so much'\n",
    "data.split()\n",
    "for i in range(len(data)):\n",
    "    print(data[i],i)"
   ]
  },
  {
   "cell_type": "code",
   "execution_count": 126,
   "id": "5795976f",
   "metadata": {},
   "outputs": [
    {
     "data": {
      "text/plain": [
       "' '"
      ]
     },
     "execution_count": 126,
     "metadata": {},
     "output_type": "execute_result"
    }
   ],
   "source": [
    "data [1]"
   ]
  },
  {
   "cell_type": "code",
   "execution_count": 127,
   "id": "e41471e3",
   "metadata": {},
   "outputs": [
    {
     "data": {
      "text/plain": [
       "'o'"
      ]
     },
     "execution_count": 127,
     "metadata": {},
     "output_type": "execute_result"
    }
   ],
   "source": [
    "data [3]"
   ]
  },
  {
   "cell_type": "code",
   "execution_count": 131,
   "id": "31479596",
   "metadata": {},
   "outputs": [
    {
     "name": "stdout",
     "output_type": "stream",
     "text": [
      "36 8\n",
      "36\n"
     ]
    }
   ],
   "source": [
    "nums = [1,2,3,4,5,6,7,8]\n",
    "total = 0\n",
    "for x in nums:\n",
    "    total = total+x\n",
    "    #print(total, x)\n",
    "print(total, x)\n",
    "print(total)"
   ]
  },
  {
   "cell_type": "code",
   "execution_count": 132,
   "id": "739d92f6",
   "metadata": {},
   "outputs": [
    {
     "name": "stdout",
     "output_type": "stream",
     "text": [
      "data science\n",
      "data science\n",
      "data science\n",
      "data science\n",
      "data science\n",
      "data science\n",
      "data science\n",
      "data science\n",
      "data science\n",
      "data science\n"
     ]
    }
   ],
   "source": [
    "for i in range(10):\n",
    "    print('data science')"
   ]
  },
  {
   "cell_type": "code",
   "execution_count": 134,
   "id": "dde09ea7",
   "metadata": {},
   "outputs": [
    {
     "name": "stdout",
     "output_type": "stream",
     "text": [
      "data science,i\n",
      "data science,i\n",
      "data science,i\n",
      "data science,i\n",
      "data science,i\n",
      "data science,i\n",
      "data science,i\n",
      "data science,i\n",
      "data science,i\n",
      "data science,i\n"
     ]
    }
   ],
   "source": [
    "for i in range(10):\n",
    "    print('data science,i')"
   ]
  },
  {
   "cell_type": "code",
   "execution_count": 135,
   "id": "bc0155cd",
   "metadata": {},
   "outputs": [
    {
     "name": "stdout",
     "output_type": "stream",
     "text": [
      "data science,i\n",
      "data science,i\n",
      "data science,i\n",
      "data science,i\n",
      "data science,i\n"
     ]
    }
   ],
   "source": [
    "for i in range(5,10):\n",
    "    print('data science,i')"
   ]
  },
  {
   "cell_type": "code",
   "execution_count": 137,
   "id": "e874064a",
   "metadata": {},
   "outputs": [
    {
     "name": "stdout",
     "output_type": "stream",
     "text": [
      "data science,i\n",
      "data science,i\n",
      "data science,i\n"
     ]
    }
   ],
   "source": [
    "for i in range(5,10,2):\n",
    "    print('data science,i')"
   ]
  },
  {
   "cell_type": "code",
   "execution_count": 140,
   "id": "e0fde68d",
   "metadata": {},
   "outputs": [
    {
     "ename": "ImportError",
     "evalue": "cannot import name 'image' from 'IPython.display' (C:\\ProgramData\\Anaconda3\\lib\\site-packages\\IPython\\display.py)",
     "output_type": "error",
     "traceback": [
      "\u001b[1;31m---------------------------------------------------------------------------\u001b[0m",
      "\u001b[1;31mImportError\u001b[0m                               Traceback (most recent call last)",
      "Input \u001b[1;32mIn [140]\u001b[0m, in \u001b[0;36m<cell line: 1>\u001b[1;34m()\u001b[0m\n\u001b[1;32m----> 1\u001b[0m \u001b[38;5;28;01mfrom\u001b[39;00m \u001b[38;5;21;01mIPython\u001b[39;00m\u001b[38;5;21;01m.\u001b[39;00m\u001b[38;5;21;01mdisplay\u001b[39;00m \u001b[38;5;28;01mimport\u001b[39;00m image\n\u001b[0;32m      2\u001b[0m image(\u001b[38;5;124m'\u001b[39m\u001b[38;5;124mexcercize.png\u001b[39m\u001b[38;5;124m'\u001b[39m)\n",
      "\u001b[1;31mImportError\u001b[0m: cannot import name 'image' from 'IPython.display' (C:\\ProgramData\\Anaconda3\\lib\\site-packages\\IPython\\display.py)"
     ]
    }
   ],
   "source": [
    "from IPython.display import image\n",
    "image('excercize.png')"
   ]
  },
  {
   "cell_type": "code",
   "execution_count": null,
   "id": "cc304c32",
   "metadata": {},
   "outputs": [],
   "source": []
  }
 ],
 "metadata": {
  "kernelspec": {
   "display_name": "Python 3 (ipykernel)",
   "language": "python",
   "name": "python3"
  },
  "language_info": {
   "codemirror_mode": {
    "name": "ipython",
    "version": 3
   },
   "file_extension": ".py",
   "mimetype": "text/x-python",
   "name": "python",
   "nbconvert_exporter": "python",
   "pygments_lexer": "ipython3",
   "version": "3.9.12"
  }
 },
 "nbformat": 4,
 "nbformat_minor": 5
}
